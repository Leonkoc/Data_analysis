{
 "cells": [
  {
   "cell_type": "code",
   "execution_count": 1,
   "id": "ff35d250-01c6-455b-aa88-6c5bd8cdecfb",
   "metadata": {},
   "outputs": [],
   "source": [
    "import pandas as pd"
   ]
  },
  {
   "cell_type": "code",
   "execution_count": 3,
   "id": "04992195-d72e-49be-919e-682e92c91e87",
   "metadata": {},
   "outputs": [],
   "source": [
    "df_data = pd.read_csv(\"supermarket_sales.csv\")"
   ]
  },
  {
   "cell_type": "code",
   "execution_count": 5,
   "id": "2b50da6f-69e7-4536-970a-a2b1bf94a69b",
   "metadata": {},
   "outputs": [
    {
     "data": {
      "text/html": [
       "<div>\n",
       "<style scoped>\n",
       "    .dataframe tbody tr th:only-of-type {\n",
       "        vertical-align: middle;\n",
       "    }\n",
       "\n",
       "    .dataframe tbody tr th {\n",
       "        vertical-align: top;\n",
       "    }\n",
       "\n",
       "    .dataframe thead th {\n",
       "        text-align: right;\n",
       "    }\n",
       "</style>\n",
       "<table border=\"1\" class=\"dataframe\">\n",
       "  <thead>\n",
       "    <tr style=\"text-align: right;\">\n",
       "      <th></th>\n",
       "      <th>Invoice ID</th>\n",
       "      <th>Branch</th>\n",
       "      <th>City</th>\n",
       "      <th>Customer type</th>\n",
       "      <th>Gender</th>\n",
       "      <th>Product line</th>\n",
       "      <th>Unit price</th>\n",
       "      <th>Quantity</th>\n",
       "      <th>Tax 5%</th>\n",
       "      <th>Total</th>\n",
       "      <th>Date</th>\n",
       "      <th>Time</th>\n",
       "      <th>Payment</th>\n",
       "      <th>cogs</th>\n",
       "      <th>gross margin percentage</th>\n",
       "      <th>gross income</th>\n",
       "      <th>Rating</th>\n",
       "    </tr>\n",
       "  </thead>\n",
       "  <tbody>\n",
       "    <tr>\n",
       "      <th>0</th>\n",
       "      <td>750-67-8428</td>\n",
       "      <td>A</td>\n",
       "      <td>Yangon</td>\n",
       "      <td>Member</td>\n",
       "      <td>Female</td>\n",
       "      <td>Health and beauty</td>\n",
       "      <td>74.69</td>\n",
       "      <td>7</td>\n",
       "      <td>26.1415</td>\n",
       "      <td>548.9715</td>\n",
       "      <td>1/5/2019</td>\n",
       "      <td>13:08</td>\n",
       "      <td>Ewallet</td>\n",
       "      <td>522.83</td>\n",
       "      <td>4.761905</td>\n",
       "      <td>26.1415</td>\n",
       "      <td>9.1</td>\n",
       "    </tr>\n",
       "    <tr>\n",
       "      <th>1</th>\n",
       "      <td>226-31-3081</td>\n",
       "      <td>C</td>\n",
       "      <td>Naypyitaw</td>\n",
       "      <td>Normal</td>\n",
       "      <td>Female</td>\n",
       "      <td>Electronic accessories</td>\n",
       "      <td>15.28</td>\n",
       "      <td>5</td>\n",
       "      <td>3.8200</td>\n",
       "      <td>80.2200</td>\n",
       "      <td>3/8/2019</td>\n",
       "      <td>10:29</td>\n",
       "      <td>Cash</td>\n",
       "      <td>76.40</td>\n",
       "      <td>4.761905</td>\n",
       "      <td>3.8200</td>\n",
       "      <td>9.6</td>\n",
       "    </tr>\n",
       "    <tr>\n",
       "      <th>2</th>\n",
       "      <td>631-41-3108</td>\n",
       "      <td>A</td>\n",
       "      <td>Yangon</td>\n",
       "      <td>Normal</td>\n",
       "      <td>Male</td>\n",
       "      <td>Home and lifestyle</td>\n",
       "      <td>46.33</td>\n",
       "      <td>7</td>\n",
       "      <td>16.2155</td>\n",
       "      <td>340.5255</td>\n",
       "      <td>3/3/2019</td>\n",
       "      <td>13:23</td>\n",
       "      <td>Credit card</td>\n",
       "      <td>324.31</td>\n",
       "      <td>4.761905</td>\n",
       "      <td>16.2155</td>\n",
       "      <td>7.4</td>\n",
       "    </tr>\n",
       "    <tr>\n",
       "      <th>3</th>\n",
       "      <td>123-19-1176</td>\n",
       "      <td>A</td>\n",
       "      <td>Yangon</td>\n",
       "      <td>Member</td>\n",
       "      <td>Male</td>\n",
       "      <td>Health and beauty</td>\n",
       "      <td>58.22</td>\n",
       "      <td>8</td>\n",
       "      <td>23.2880</td>\n",
       "      <td>489.0480</td>\n",
       "      <td>1/27/2019</td>\n",
       "      <td>20:33</td>\n",
       "      <td>Ewallet</td>\n",
       "      <td>465.76</td>\n",
       "      <td>4.761905</td>\n",
       "      <td>23.2880</td>\n",
       "      <td>8.4</td>\n",
       "    </tr>\n",
       "    <tr>\n",
       "      <th>4</th>\n",
       "      <td>373-73-7910</td>\n",
       "      <td>A</td>\n",
       "      <td>Yangon</td>\n",
       "      <td>Normal</td>\n",
       "      <td>Male</td>\n",
       "      <td>Sports and travel</td>\n",
       "      <td>86.31</td>\n",
       "      <td>7</td>\n",
       "      <td>30.2085</td>\n",
       "      <td>634.3785</td>\n",
       "      <td>2/8/2019</td>\n",
       "      <td>10:37</td>\n",
       "      <td>Ewallet</td>\n",
       "      <td>604.17</td>\n",
       "      <td>4.761905</td>\n",
       "      <td>30.2085</td>\n",
       "      <td>5.3</td>\n",
       "    </tr>\n",
       "  </tbody>\n",
       "</table>\n",
       "</div>"
      ],
      "text/plain": [
       "    Invoice ID Branch       City Customer type  Gender  \\\n",
       "0  750-67-8428      A     Yangon        Member  Female   \n",
       "1  226-31-3081      C  Naypyitaw        Normal  Female   \n",
       "2  631-41-3108      A     Yangon        Normal    Male   \n",
       "3  123-19-1176      A     Yangon        Member    Male   \n",
       "4  373-73-7910      A     Yangon        Normal    Male   \n",
       "\n",
       "             Product line  Unit price  Quantity   Tax 5%     Total       Date  \\\n",
       "0       Health and beauty       74.69         7  26.1415  548.9715   1/5/2019   \n",
       "1  Electronic accessories       15.28         5   3.8200   80.2200   3/8/2019   \n",
       "2      Home and lifestyle       46.33         7  16.2155  340.5255   3/3/2019   \n",
       "3       Health and beauty       58.22         8  23.2880  489.0480  1/27/2019   \n",
       "4       Sports and travel       86.31         7  30.2085  634.3785   2/8/2019   \n",
       "\n",
       "    Time      Payment    cogs  gross margin percentage  gross income  Rating  \n",
       "0  13:08      Ewallet  522.83                 4.761905       26.1415     9.1  \n",
       "1  10:29         Cash   76.40                 4.761905        3.8200     9.6  \n",
       "2  13:23  Credit card  324.31                 4.761905       16.2155     7.4  \n",
       "3  20:33      Ewallet  465.76                 4.761905       23.2880     8.4  \n",
       "4  10:37      Ewallet  604.17                 4.761905       30.2085     5.3  "
      ]
     },
     "execution_count": 5,
     "metadata": {},
     "output_type": "execute_result"
    }
   ],
   "source": [
    "df_data.head()"
   ]
  },
  {
   "cell_type": "code",
   "execution_count": 8,
   "id": "2e0568b2-13e3-431c-a769-7408d8d629db",
   "metadata": {},
   "outputs": [
    {
     "data": {
      "text/html": [
       "<div>\n",
       "<style scoped>\n",
       "    .dataframe tbody tr th:only-of-type {\n",
       "        vertical-align: middle;\n",
       "    }\n",
       "\n",
       "    .dataframe tbody tr th {\n",
       "        vertical-align: top;\n",
       "    }\n",
       "\n",
       "    .dataframe thead th {\n",
       "        text-align: right;\n",
       "    }\n",
       "</style>\n",
       "<table border=\"1\" class=\"dataframe\">\n",
       "  <thead>\n",
       "    <tr style=\"text-align: right;\">\n",
       "      <th></th>\n",
       "      <th>Invoice ID</th>\n",
       "      <th>Branch</th>\n",
       "      <th>City</th>\n",
       "      <th>Customer type</th>\n",
       "      <th>Gender</th>\n",
       "      <th>Product line</th>\n",
       "      <th>Unit price</th>\n",
       "      <th>Quantity</th>\n",
       "      <th>Tax 5%</th>\n",
       "      <th>Total</th>\n",
       "      <th>Date</th>\n",
       "      <th>Time</th>\n",
       "      <th>Payment</th>\n",
       "      <th>cogs</th>\n",
       "      <th>gross margin percentage</th>\n",
       "      <th>gross income</th>\n",
       "      <th>Rating</th>\n",
       "    </tr>\n",
       "  </thead>\n",
       "  <tbody>\n",
       "    <tr>\n",
       "      <th>0</th>\n",
       "      <td>750-67-8428</td>\n",
       "      <td>A</td>\n",
       "      <td>Yangon</td>\n",
       "      <td>Member</td>\n",
       "      <td>Female</td>\n",
       "      <td>Health and beauty</td>\n",
       "      <td>74.69</td>\n",
       "      <td>7</td>\n",
       "      <td>26.1415</td>\n",
       "      <td>548.9715</td>\n",
       "      <td>1/5/2019</td>\n",
       "      <td>13:08</td>\n",
       "      <td>Ewallet</td>\n",
       "      <td>522.83</td>\n",
       "      <td>4.761905</td>\n",
       "      <td>26.1415</td>\n",
       "      <td>9.1</td>\n",
       "    </tr>\n",
       "    <tr>\n",
       "      <th>1</th>\n",
       "      <td>226-31-3081</td>\n",
       "      <td>C</td>\n",
       "      <td>Naypyitaw</td>\n",
       "      <td>Normal</td>\n",
       "      <td>Female</td>\n",
       "      <td>Electronic accessories</td>\n",
       "      <td>15.28</td>\n",
       "      <td>5</td>\n",
       "      <td>3.8200</td>\n",
       "      <td>80.2200</td>\n",
       "      <td>3/8/2019</td>\n",
       "      <td>10:29</td>\n",
       "      <td>Cash</td>\n",
       "      <td>76.40</td>\n",
       "      <td>4.761905</td>\n",
       "      <td>3.8200</td>\n",
       "      <td>9.6</td>\n",
       "    </tr>\n",
       "    <tr>\n",
       "      <th>2</th>\n",
       "      <td>631-41-3108</td>\n",
       "      <td>A</td>\n",
       "      <td>Yangon</td>\n",
       "      <td>Normal</td>\n",
       "      <td>Male</td>\n",
       "      <td>Home and lifestyle</td>\n",
       "      <td>46.33</td>\n",
       "      <td>7</td>\n",
       "      <td>16.2155</td>\n",
       "      <td>340.5255</td>\n",
       "      <td>3/3/2019</td>\n",
       "      <td>13:23</td>\n",
       "      <td>Credit card</td>\n",
       "      <td>324.31</td>\n",
       "      <td>4.761905</td>\n",
       "      <td>16.2155</td>\n",
       "      <td>7.4</td>\n",
       "    </tr>\n",
       "    <tr>\n",
       "      <th>3</th>\n",
       "      <td>123-19-1176</td>\n",
       "      <td>A</td>\n",
       "      <td>Yangon</td>\n",
       "      <td>Member</td>\n",
       "      <td>Male</td>\n",
       "      <td>Health and beauty</td>\n",
       "      <td>58.22</td>\n",
       "      <td>8</td>\n",
       "      <td>23.2880</td>\n",
       "      <td>489.0480</td>\n",
       "      <td>1/27/2019</td>\n",
       "      <td>20:33</td>\n",
       "      <td>Ewallet</td>\n",
       "      <td>465.76</td>\n",
       "      <td>4.761905</td>\n",
       "      <td>23.2880</td>\n",
       "      <td>8.4</td>\n",
       "    </tr>\n",
       "    <tr>\n",
       "      <th>4</th>\n",
       "      <td>373-73-7910</td>\n",
       "      <td>A</td>\n",
       "      <td>Yangon</td>\n",
       "      <td>Normal</td>\n",
       "      <td>Male</td>\n",
       "      <td>Sports and travel</td>\n",
       "      <td>86.31</td>\n",
       "      <td>7</td>\n",
       "      <td>30.2085</td>\n",
       "      <td>634.3785</td>\n",
       "      <td>2/8/2019</td>\n",
       "      <td>10:37</td>\n",
       "      <td>Ewallet</td>\n",
       "      <td>604.17</td>\n",
       "      <td>4.761905</td>\n",
       "      <td>30.2085</td>\n",
       "      <td>5.3</td>\n",
       "    </tr>\n",
       "    <tr>\n",
       "      <th>...</th>\n",
       "      <td>...</td>\n",
       "      <td>...</td>\n",
       "      <td>...</td>\n",
       "      <td>...</td>\n",
       "      <td>...</td>\n",
       "      <td>...</td>\n",
       "      <td>...</td>\n",
       "      <td>...</td>\n",
       "      <td>...</td>\n",
       "      <td>...</td>\n",
       "      <td>...</td>\n",
       "      <td>...</td>\n",
       "      <td>...</td>\n",
       "      <td>...</td>\n",
       "      <td>...</td>\n",
       "      <td>...</td>\n",
       "      <td>...</td>\n",
       "    </tr>\n",
       "    <tr>\n",
       "      <th>995</th>\n",
       "      <td>233-67-5758</td>\n",
       "      <td>C</td>\n",
       "      <td>Naypyitaw</td>\n",
       "      <td>Normal</td>\n",
       "      <td>Male</td>\n",
       "      <td>Health and beauty</td>\n",
       "      <td>40.35</td>\n",
       "      <td>1</td>\n",
       "      <td>2.0175</td>\n",
       "      <td>42.3675</td>\n",
       "      <td>1/29/2019</td>\n",
       "      <td>13:46</td>\n",
       "      <td>Ewallet</td>\n",
       "      <td>40.35</td>\n",
       "      <td>4.761905</td>\n",
       "      <td>2.0175</td>\n",
       "      <td>6.2</td>\n",
       "    </tr>\n",
       "    <tr>\n",
       "      <th>996</th>\n",
       "      <td>303-96-2227</td>\n",
       "      <td>B</td>\n",
       "      <td>Mandalay</td>\n",
       "      <td>Normal</td>\n",
       "      <td>Female</td>\n",
       "      <td>Home and lifestyle</td>\n",
       "      <td>97.38</td>\n",
       "      <td>10</td>\n",
       "      <td>48.6900</td>\n",
       "      <td>1022.4900</td>\n",
       "      <td>3/2/2019</td>\n",
       "      <td>17:16</td>\n",
       "      <td>Ewallet</td>\n",
       "      <td>973.80</td>\n",
       "      <td>4.761905</td>\n",
       "      <td>48.6900</td>\n",
       "      <td>4.4</td>\n",
       "    </tr>\n",
       "    <tr>\n",
       "      <th>997</th>\n",
       "      <td>727-02-1313</td>\n",
       "      <td>A</td>\n",
       "      <td>Yangon</td>\n",
       "      <td>Member</td>\n",
       "      <td>Male</td>\n",
       "      <td>Food and beverages</td>\n",
       "      <td>31.84</td>\n",
       "      <td>1</td>\n",
       "      <td>1.5920</td>\n",
       "      <td>33.4320</td>\n",
       "      <td>2/9/2019</td>\n",
       "      <td>13:22</td>\n",
       "      <td>Cash</td>\n",
       "      <td>31.84</td>\n",
       "      <td>4.761905</td>\n",
       "      <td>1.5920</td>\n",
       "      <td>7.7</td>\n",
       "    </tr>\n",
       "    <tr>\n",
       "      <th>998</th>\n",
       "      <td>347-56-2442</td>\n",
       "      <td>A</td>\n",
       "      <td>Yangon</td>\n",
       "      <td>Normal</td>\n",
       "      <td>Male</td>\n",
       "      <td>Home and lifestyle</td>\n",
       "      <td>65.82</td>\n",
       "      <td>1</td>\n",
       "      <td>3.2910</td>\n",
       "      <td>69.1110</td>\n",
       "      <td>2/22/2019</td>\n",
       "      <td>15:33</td>\n",
       "      <td>Cash</td>\n",
       "      <td>65.82</td>\n",
       "      <td>4.761905</td>\n",
       "      <td>3.2910</td>\n",
       "      <td>4.1</td>\n",
       "    </tr>\n",
       "    <tr>\n",
       "      <th>999</th>\n",
       "      <td>849-09-3807</td>\n",
       "      <td>A</td>\n",
       "      <td>Yangon</td>\n",
       "      <td>Member</td>\n",
       "      <td>Female</td>\n",
       "      <td>Fashion accessories</td>\n",
       "      <td>88.34</td>\n",
       "      <td>7</td>\n",
       "      <td>30.9190</td>\n",
       "      <td>649.2990</td>\n",
       "      <td>2/18/2019</td>\n",
       "      <td>13:28</td>\n",
       "      <td>Cash</td>\n",
       "      <td>618.38</td>\n",
       "      <td>4.761905</td>\n",
       "      <td>30.9190</td>\n",
       "      <td>6.6</td>\n",
       "    </tr>\n",
       "  </tbody>\n",
       "</table>\n",
       "<p>1000 rows × 17 columns</p>\n",
       "</div>"
      ],
      "text/plain": [
       "      Invoice ID Branch       City Customer type  Gender  \\\n",
       "0    750-67-8428      A     Yangon        Member  Female   \n",
       "1    226-31-3081      C  Naypyitaw        Normal  Female   \n",
       "2    631-41-3108      A     Yangon        Normal    Male   \n",
       "3    123-19-1176      A     Yangon        Member    Male   \n",
       "4    373-73-7910      A     Yangon        Normal    Male   \n",
       "..           ...    ...        ...           ...     ...   \n",
       "995  233-67-5758      C  Naypyitaw        Normal    Male   \n",
       "996  303-96-2227      B   Mandalay        Normal  Female   \n",
       "997  727-02-1313      A     Yangon        Member    Male   \n",
       "998  347-56-2442      A     Yangon        Normal    Male   \n",
       "999  849-09-3807      A     Yangon        Member  Female   \n",
       "\n",
       "               Product line  Unit price  Quantity   Tax 5%      Total  \\\n",
       "0         Health and beauty       74.69         7  26.1415   548.9715   \n",
       "1    Electronic accessories       15.28         5   3.8200    80.2200   \n",
       "2        Home and lifestyle       46.33         7  16.2155   340.5255   \n",
       "3         Health and beauty       58.22         8  23.2880   489.0480   \n",
       "4         Sports and travel       86.31         7  30.2085   634.3785   \n",
       "..                      ...         ...       ...      ...        ...   \n",
       "995       Health and beauty       40.35         1   2.0175    42.3675   \n",
       "996      Home and lifestyle       97.38        10  48.6900  1022.4900   \n",
       "997      Food and beverages       31.84         1   1.5920    33.4320   \n",
       "998      Home and lifestyle       65.82         1   3.2910    69.1110   \n",
       "999     Fashion accessories       88.34         7  30.9190   649.2990   \n",
       "\n",
       "          Date   Time      Payment    cogs  gross margin percentage  \\\n",
       "0     1/5/2019  13:08      Ewallet  522.83                 4.761905   \n",
       "1     3/8/2019  10:29         Cash   76.40                 4.761905   \n",
       "2     3/3/2019  13:23  Credit card  324.31                 4.761905   \n",
       "3    1/27/2019  20:33      Ewallet  465.76                 4.761905   \n",
       "4     2/8/2019  10:37      Ewallet  604.17                 4.761905   \n",
       "..         ...    ...          ...     ...                      ...   \n",
       "995  1/29/2019  13:46      Ewallet   40.35                 4.761905   \n",
       "996   3/2/2019  17:16      Ewallet  973.80                 4.761905   \n",
       "997   2/9/2019  13:22         Cash   31.84                 4.761905   \n",
       "998  2/22/2019  15:33         Cash   65.82                 4.761905   \n",
       "999  2/18/2019  13:28         Cash  618.38                 4.761905   \n",
       "\n",
       "     gross income  Rating  \n",
       "0         26.1415     9.1  \n",
       "1          3.8200     9.6  \n",
       "2         16.2155     7.4  \n",
       "3         23.2880     8.4  \n",
       "4         30.2085     5.3  \n",
       "..            ...     ...  \n",
       "995        2.0175     6.2  \n",
       "996       48.6900     4.4  \n",
       "997        1.5920     7.7  \n",
       "998        3.2910     4.1  \n",
       "999       30.9190     6.6  \n",
       "\n",
       "[1000 rows x 17 columns]"
      ]
     },
     "execution_count": 8,
     "metadata": {},
     "output_type": "execute_result"
    }
   ],
   "source": [
    "df_data"
   ]
  },
  {
   "cell_type": "markdown",
   "id": "35013a99-dccb-4adc-b4ca-316e64dbdb37",
   "metadata": {},
   "source": [
    "## 1-Coletar o faturamento por filial ou city?"
   ]
  },
  {
   "cell_type": "code",
   "execution_count": 11,
   "id": "54c46465-5ee7-4a5a-8875-47a765c9956b",
   "metadata": {},
   "outputs": [
    {
     "data": {
      "text/plain": [
       "City\n",
       "Mandalay     106197.6720\n",
       "Naypyitaw    110568.7065\n",
       "Yangon       106200.3705\n",
       "Name: Total, dtype: float64"
      ]
     },
     "execution_count": 11,
     "metadata": {},
     "output_type": "execute_result"
    }
   ],
   "source": [
    "df_data.groupby(\"City\")['Total'].sum()"
   ]
  },
  {
   "cell_type": "code",
   "execution_count": 13,
   "id": "fb9d4ddb-1441-4dc1-a483-d1c5988c283f",
   "metadata": {},
   "outputs": [
    {
     "data": {
      "text/html": [
       "<div>\n",
       "<style scoped>\n",
       "    .dataframe tbody tr th:only-of-type {\n",
       "        vertical-align: middle;\n",
       "    }\n",
       "\n",
       "    .dataframe tbody tr th {\n",
       "        vertical-align: top;\n",
       "    }\n",
       "\n",
       "    .dataframe thead th {\n",
       "        text-align: right;\n",
       "    }\n",
       "</style>\n",
       "<table border=\"1\" class=\"dataframe\">\n",
       "  <thead>\n",
       "    <tr style=\"text-align: right;\">\n",
       "      <th></th>\n",
       "      <th>Total</th>\n",
       "      <th>gross income</th>\n",
       "    </tr>\n",
       "    <tr>\n",
       "      <th>City</th>\n",
       "      <th></th>\n",
       "      <th></th>\n",
       "    </tr>\n",
       "  </thead>\n",
       "  <tbody>\n",
       "    <tr>\n",
       "      <th>Mandalay</th>\n",
       "      <td>106197.6720</td>\n",
       "      <td>5057.0320</td>\n",
       "    </tr>\n",
       "    <tr>\n",
       "      <th>Naypyitaw</th>\n",
       "      <td>110568.7065</td>\n",
       "      <td>5265.1765</td>\n",
       "    </tr>\n",
       "    <tr>\n",
       "      <th>Yangon</th>\n",
       "      <td>106200.3705</td>\n",
       "      <td>5057.1605</td>\n",
       "    </tr>\n",
       "  </tbody>\n",
       "</table>\n",
       "</div>"
      ],
      "text/plain": [
       "                 Total  gross income\n",
       "City                                \n",
       "Mandalay   106197.6720     5057.0320\n",
       "Naypyitaw  110568.7065     5265.1765\n",
       "Yangon     106200.3705     5057.1605"
      ]
     },
     "execution_count": 13,
     "metadata": {},
     "output_type": "execute_result"
    }
   ],
   "source": [
    "df_data.groupby(\"City\")[['Total', 'gross income']].sum()"
   ]
  },
  {
   "cell_type": "markdown",
   "id": "569c3c21-4980-45ff-9ec7-235669e3470e",
   "metadata": {},
   "source": [
    "##### Gross Income = rendimento bruto"
   ]
  },
  {
   "cell_type": "markdown",
   "id": "9e806e3e-a80e-4647-bea5-6a9f99294f69",
   "metadata": {},
   "source": [
    "## 2- Percentual de participação na receita de cada tipo de produto"
   ]
  },
  {
   "cell_type": "code",
   "execution_count": 34,
   "id": "d89a5f84-f450-475b-878e-494db12e6f04",
   "metadata": {},
   "outputs": [
    {
     "data": {
      "text/plain": [
       "Product line\n",
       "Electronic accessories    0.168245\n",
       "Fashion accessories       0.168147\n",
       "Food and beverages        0.173841\n",
       "Health and beauty         0.152318\n",
       "Home and lifestyle        0.166772\n",
       "Sports and travel         0.170676\n",
       "Name: Total, dtype: float64"
      ]
     },
     "execution_count": 34,
     "metadata": {},
     "output_type": "execute_result"
    }
   ],
   "source": [
    "df_data.groupby(\"Product line\")[\"Total\"].sum() / df_data.groupby(\"Product line\")[\"Total\"].sum() .sum()"
   ]
  },
  {
   "cell_type": "code",
   "execution_count": 36,
   "id": "d626486c-813e-45cf-81f3-8bc5afb882dd",
   "metadata": {},
   "outputs": [
    {
     "data": {
      "text/plain": [
       "Product line\n",
       "Health and beauty         0.152318\n",
       "Home and lifestyle        0.166772\n",
       "Fashion accessories       0.168147\n",
       "Electronic accessories    0.168245\n",
       "Sports and travel         0.170676\n",
       "Food and beverages        0.173841\n",
       "Name: Total, dtype: float64"
      ]
     },
     "execution_count": 36,
     "metadata": {},
     "output_type": "execute_result"
    }
   ],
   "source": [
    "(df_data.groupby(\"Product line\")[\"Total\"].sum() / df_data.groupby(\"Product line\")[\"Total\"].sum() .sum()).sort_values()"
   ]
  },
  {
   "cell_type": "markdown",
   "id": "cd9fdc7b-2dd2-4143-8fa1-80fa8571f3e6",
   "metadata": {},
   "source": [
    "Ordenei do menor pro maior "
   ]
  },
  {
   "cell_type": "code",
   "execution_count": 39,
   "id": "c9903296-50a0-4626-8616-ed72fa1cdc93",
   "metadata": {},
   "outputs": [
    {
     "data": {
      "text/plain": [
       "Product line\n",
       "Health and beauty         15.231828\n",
       "Home and lifestyle        16.677232\n",
       "Fashion accessories       16.814702\n",
       "Electronic accessories    16.824497\n",
       "Sports and travel         17.067648\n",
       "Food and beverages        17.384094\n",
       "Name: Total, dtype: float64"
      ]
     },
     "execution_count": 39,
     "metadata": {},
     "output_type": "execute_result"
    }
   ],
   "source": [
    "(df_data.groupby(\"Product line\")[\"Total\"].sum() / df_data.groupby(\"Product line\")[\"Total\"].sum() .sum()).sort_values() * 100"
   ]
  },
  {
   "cell_type": "code",
   "execution_count": 49,
   "id": "9d5372f8-45b0-4d4b-8f51-fe77374ef5bd",
   "metadata": {},
   "outputs": [],
   "source": [
    "percent_values = (\n",
    "    df_data.groupby(\"Product line\")[\"Total\"].sum() \n",
    "    / df_data.groupby(\"Product line\")[\"Total\"].sum().sum()\n",
    ").sort_values() * 100\n",
    "percent_values = percent_values.round(2).astype(str) + '%' #Agora se tornou uma string não poderia fazer calculos"
   ]
  },
  {
   "cell_type": "code",
   "execution_count": 45,
   "id": "c24e8f89-42a5-49d0-ac76-b3e6182a8f0b",
   "metadata": {},
   "outputs": [
    {
     "data": {
      "text/plain": [
       "Product line\n",
       "Health and beauty         15.23%\n",
       "Home and lifestyle        16.68%\n",
       "Fashion accessories       16.81%\n",
       "Electronic accessories    16.82%\n",
       "Sports and travel         17.07%\n",
       "Food and beverages        17.38%\n",
       "Name: Total, dtype: object"
      ]
     },
     "execution_count": 45,
     "metadata": {},
     "output_type": "execute_result"
    }
   ],
   "source": [
    "percent_values"
   ]
  },
  {
   "cell_type": "markdown",
   "id": "6d287225-58df-4636-b80f-9267c3facb67",
   "metadata": {},
   "source": [
    "## 3- Conseguimous ver a distribuição de consumo de produtos por gênero?"
   ]
  },
  {
   "cell_type": "code",
   "execution_count": 53,
   "id": "72a0912e-454a-466f-812f-59d0f69f328e",
   "metadata": {},
   "outputs": [
    {
     "data": {
      "text/plain": [
       "Product line            Gender\n",
       "Electronic accessories  Female    27102.0225\n",
       "                        Male      27235.5090\n",
       "Fashion accessories     Female    30437.4000\n",
       "                        Male      23868.4950\n",
       "Food and beverages      Female    33170.9175\n",
       "                        Male      22973.9265\n",
       "Health and beauty       Female    18560.9865\n",
       "                        Male      30632.7525\n",
       "Home and lifestyle      Female    30036.8775\n",
       "                        Male      23825.0355\n",
       "Sports and travel       Female    28574.7210\n",
       "                        Male      26548.1055\n",
       "Name: Total, dtype: float64"
      ]
     },
     "execution_count": 53,
     "metadata": {},
     "output_type": "execute_result"
    }
   ],
   "source": [
    "df_data.groupby([\"Product line\",\"Gender\"])[\"Total\"].sum()"
   ]
  },
  {
   "cell_type": "code",
   "execution_count": 57,
   "id": "15997aa3-9d57-4abf-b857-398bdeba4f5c",
   "metadata": {},
   "outputs": [
    {
     "data": {
      "text/html": [
       "<div>\n",
       "<style scoped>\n",
       "    .dataframe tbody tr th:only-of-type {\n",
       "        vertical-align: middle;\n",
       "    }\n",
       "\n",
       "    .dataframe tbody tr th {\n",
       "        vertical-align: top;\n",
       "    }\n",
       "\n",
       "    .dataframe thead th {\n",
       "        text-align: right;\n",
       "    }\n",
       "</style>\n",
       "<table border=\"1\" class=\"dataframe\">\n",
       "  <thead>\n",
       "    <tr style=\"text-align: right;\">\n",
       "      <th></th>\n",
       "      <th></th>\n",
       "      <th>Total</th>\n",
       "    </tr>\n",
       "    <tr>\n",
       "      <th>Product line</th>\n",
       "      <th>Gender</th>\n",
       "      <th></th>\n",
       "    </tr>\n",
       "  </thead>\n",
       "  <tbody>\n",
       "    <tr>\n",
       "      <th rowspan=\"2\" valign=\"top\">Electronic accessories</th>\n",
       "      <th>Female</th>\n",
       "      <td>27102.0225</td>\n",
       "    </tr>\n",
       "    <tr>\n",
       "      <th>Male</th>\n",
       "      <td>27235.5090</td>\n",
       "    </tr>\n",
       "    <tr>\n",
       "      <th rowspan=\"2\" valign=\"top\">Fashion accessories</th>\n",
       "      <th>Female</th>\n",
       "      <td>30437.4000</td>\n",
       "    </tr>\n",
       "    <tr>\n",
       "      <th>Male</th>\n",
       "      <td>23868.4950</td>\n",
       "    </tr>\n",
       "    <tr>\n",
       "      <th rowspan=\"2\" valign=\"top\">Food and beverages</th>\n",
       "      <th>Female</th>\n",
       "      <td>33170.9175</td>\n",
       "    </tr>\n",
       "    <tr>\n",
       "      <th>Male</th>\n",
       "      <td>22973.9265</td>\n",
       "    </tr>\n",
       "    <tr>\n",
       "      <th rowspan=\"2\" valign=\"top\">Health and beauty</th>\n",
       "      <th>Female</th>\n",
       "      <td>18560.9865</td>\n",
       "    </tr>\n",
       "    <tr>\n",
       "      <th>Male</th>\n",
       "      <td>30632.7525</td>\n",
       "    </tr>\n",
       "    <tr>\n",
       "      <th rowspan=\"2\" valign=\"top\">Home and lifestyle</th>\n",
       "      <th>Female</th>\n",
       "      <td>30036.8775</td>\n",
       "    </tr>\n",
       "    <tr>\n",
       "      <th>Male</th>\n",
       "      <td>23825.0355</td>\n",
       "    </tr>\n",
       "    <tr>\n",
       "      <th rowspan=\"2\" valign=\"top\">Sports and travel</th>\n",
       "      <th>Female</th>\n",
       "      <td>28574.7210</td>\n",
       "    </tr>\n",
       "    <tr>\n",
       "      <th>Male</th>\n",
       "      <td>26548.1055</td>\n",
       "    </tr>\n",
       "  </tbody>\n",
       "</table>\n",
       "</div>"
      ],
      "text/plain": [
       "                                    Total\n",
       "Product line           Gender            \n",
       "Electronic accessories Female  27102.0225\n",
       "                       Male    27235.5090\n",
       "Fashion accessories    Female  30437.4000\n",
       "                       Male    23868.4950\n",
       "Food and beverages     Female  33170.9175\n",
       "                       Male    22973.9265\n",
       "Health and beauty      Female  18560.9865\n",
       "                       Male    30632.7525\n",
       "Home and lifestyle     Female  30036.8775\n",
       "                       Male    23825.0355\n",
       "Sports and travel      Female  28574.7210\n",
       "                       Male    26548.1055"
      ]
     },
     "execution_count": 57,
     "metadata": {},
     "output_type": "execute_result"
    }
   ],
   "source": [
    "df_data.groupby([\"Product line\",\"Gender\"])[[\"Total\"]].sum()"
   ]
  },
  {
   "cell_type": "code",
   "execution_count": 59,
   "id": "853749a3-cd9c-45e5-adb0-473ea396c3e1",
   "metadata": {},
   "outputs": [
    {
     "data": {
      "text/html": [
       "<div>\n",
       "<style scoped>\n",
       "    .dataframe tbody tr th:only-of-type {\n",
       "        vertical-align: middle;\n",
       "    }\n",
       "\n",
       "    .dataframe tbody tr th {\n",
       "        vertical-align: top;\n",
       "    }\n",
       "\n",
       "    .dataframe thead tr th {\n",
       "        text-align: left;\n",
       "    }\n",
       "\n",
       "    .dataframe thead tr:last-of-type th {\n",
       "        text-align: right;\n",
       "    }\n",
       "</style>\n",
       "<table border=\"1\" class=\"dataframe\">\n",
       "  <thead>\n",
       "    <tr>\n",
       "      <th></th>\n",
       "      <th colspan=\"2\" halign=\"left\">Total</th>\n",
       "    </tr>\n",
       "    <tr>\n",
       "      <th>Gender</th>\n",
       "      <th>Female</th>\n",
       "      <th>Male</th>\n",
       "    </tr>\n",
       "    <tr>\n",
       "      <th>Product line</th>\n",
       "      <th></th>\n",
       "      <th></th>\n",
       "    </tr>\n",
       "  </thead>\n",
       "  <tbody>\n",
       "    <tr>\n",
       "      <th>Electronic accessories</th>\n",
       "      <td>27102.0225</td>\n",
       "      <td>27235.5090</td>\n",
       "    </tr>\n",
       "    <tr>\n",
       "      <th>Fashion accessories</th>\n",
       "      <td>30437.4000</td>\n",
       "      <td>23868.4950</td>\n",
       "    </tr>\n",
       "    <tr>\n",
       "      <th>Food and beverages</th>\n",
       "      <td>33170.9175</td>\n",
       "      <td>22973.9265</td>\n",
       "    </tr>\n",
       "    <tr>\n",
       "      <th>Health and beauty</th>\n",
       "      <td>18560.9865</td>\n",
       "      <td>30632.7525</td>\n",
       "    </tr>\n",
       "    <tr>\n",
       "      <th>Home and lifestyle</th>\n",
       "      <td>30036.8775</td>\n",
       "      <td>23825.0355</td>\n",
       "    </tr>\n",
       "    <tr>\n",
       "      <th>Sports and travel</th>\n",
       "      <td>28574.7210</td>\n",
       "      <td>26548.1055</td>\n",
       "    </tr>\n",
       "  </tbody>\n",
       "</table>\n",
       "</div>"
      ],
      "text/plain": [
       "                             Total            \n",
       "Gender                      Female        Male\n",
       "Product line                                  \n",
       "Electronic accessories  27102.0225  27235.5090\n",
       "Fashion accessories     30437.4000  23868.4950\n",
       "Food and beverages      33170.9175  22973.9265\n",
       "Health and beauty       18560.9865  30632.7525\n",
       "Home and lifestyle      30036.8775  23825.0355\n",
       "Sports and travel       28574.7210  26548.1055"
      ]
     },
     "execution_count": 59,
     "metadata": {},
     "output_type": "execute_result"
    }
   ],
   "source": [
    "df_data.groupby([\"Product line\",\"Gender\"])[[\"Total\"]].sum().pivot_table(index = \"Product line\", columns = \"Gender\" )"
   ]
  },
  {
   "cell_type": "markdown",
   "id": "59f659bc-5153-423b-b9ac-0635d7c744df",
   "metadata": {},
   "source": [
    "## Qual faturamento por mês?"
   ]
  },
  {
   "cell_type": "code",
   "execution_count": 62,
   "id": "75087aac-7b8b-4bc8-9607-1d67d5b83716",
   "metadata": {},
   "outputs": [
    {
     "data": {
      "text/plain": [
       "0       1/5/2019\n",
       "1       3/8/2019\n",
       "2       3/3/2019\n",
       "3      1/27/2019\n",
       "4       2/8/2019\n",
       "         ...    \n",
       "995    1/29/2019\n",
       "996     3/2/2019\n",
       "997     2/9/2019\n",
       "998    2/22/2019\n",
       "999    2/18/2019\n",
       "Name: Date, Length: 1000, dtype: object"
      ]
     },
     "execution_count": 62,
     "metadata": {},
     "output_type": "execute_result"
    }
   ],
   "source": [
    "df_data['Date']"
   ]
  },
  {
   "cell_type": "code",
   "execution_count": 70,
   "id": "5044fd86-14d0-4f85-b3c8-1914abbd4e41",
   "metadata": {},
   "outputs": [
    {
     "data": {
      "text/plain": [
       "0     2019-01-05\n",
       "1     2019-03-08\n",
       "2     2019-03-03\n",
       "3     2019-01-27\n",
       "4     2019-02-08\n",
       "         ...    \n",
       "995   2019-01-29\n",
       "996   2019-03-02\n",
       "997   2019-02-09\n",
       "998   2019-02-22\n",
       "999   2019-02-18\n",
       "Name: Date, Length: 1000, dtype: datetime64[ns]"
      ]
     },
     "execution_count": 70,
     "metadata": {},
     "output_type": "execute_result"
    }
   ],
   "source": [
    "df_data['Date'] = pd.to_datetime(df_data['Date'])\n",
    "df_data['Date']"
   ]
  },
  {
   "cell_type": "code",
   "execution_count": 74,
   "id": "8fb551e2-150d-4e64-a730-f8d17d00063e",
   "metadata": {},
   "outputs": [],
   "source": [
    "df_data['Month'] = df_data['Date'].apply(lambda x: x.month)\n",
    "## Nâo curto muito em grande dataframes usar o apply com lambda pq acho menos performático"
   ]
  },
  {
   "cell_type": "code",
   "execution_count": 87,
   "id": "dae1bdd1-7008-4e25-94c1-3eaee41b1954",
   "metadata": {},
   "outputs": [
    {
     "data": {
      "text/plain": [
       "0      2019\n",
       "1      2019\n",
       "2      2019\n",
       "3      2019\n",
       "4      2019\n",
       "       ... \n",
       "995    2019\n",
       "996    2019\n",
       "997    2019\n",
       "998    2019\n",
       "999    2019\n",
       "Name: Year, Length: 1000, dtype: int32"
      ]
     },
     "execution_count": 87,
     "metadata": {},
     "output_type": "execute_result"
    }
   ],
   "source": [
    "df_data['Month'] = df_data['Date'].dt.month\n",
    "df_data['Year'] = df_data['Date'].dt.year "
   ]
  },
  {
   "cell_type": "code",
   "execution_count": 128,
   "id": "28efc396-25a5-4800-b7bd-80423dc1c525",
   "metadata": {},
   "outputs": [
    {
     "data": {
      "text/plain": [
       "Month\n",
       "1    116291.868\n",
       "2     97219.374\n",
       "3    109455.507\n",
       "Name: Total, dtype: float64"
      ]
     },
     "execution_count": 128,
     "metadata": {},
     "output_type": "execute_result"
    }
   ],
   "source": [
    "df_data.groupby([\"Month\"])[\"Total\"].sum()"
   ]
  },
  {
   "cell_type": "markdown",
   "id": "c4f4007c-f149-4ec0-b391-2469f6170956",
   "metadata": {},
   "source": [
    "## Qual a média de avaliação por filial em janeiro de 2019?"
   ]
  },
  {
   "cell_type": "code",
   "execution_count": 93,
   "id": "4b9c2ad4-bb65-422a-b030-7ce408ba6807",
   "metadata": {},
   "outputs": [
    {
     "data": {
      "text/plain": [
       "7.017613636363635"
      ]
     },
     "execution_count": 93,
     "metadata": {},
     "output_type": "execute_result"
    }
   ],
   "source": [
    "df_data[(df_data['Year'] == 2019) & (df_data[\"Month\"] == 1)][\"Rating\"].mean()"
   ]
  },
  {
   "cell_type": "markdown",
   "id": "e50b1526-4bdb-44f2-a7fd-cb07b770fdf0",
   "metadata": {},
   "source": [
    "## Como foi distribuido o gasto por tipo de consumidor em cada filial?"
   ]
  },
  {
   "cell_type": "code",
   "execution_count": 96,
   "id": "5d2b636b-dc3c-4112-9dcd-75a0eb771045",
   "metadata": {},
   "outputs": [
    {
     "data": {
      "text/plain": [
       "Customer type  City     \n",
       "Member         Mandalay     53704.6860\n",
       "               Naypyitaw    56881.2825\n",
       "               Yangon       53637.4755\n",
       "Normal         Mandalay     52492.9860\n",
       "               Naypyitaw    53687.4240\n",
       "               Yangon       52562.8950\n",
       "Name: Total, dtype: float64"
      ]
     },
     "execution_count": 96,
     "metadata": {},
     "output_type": "execute_result"
    }
   ],
   "source": [
    "df_data.groupby([\"Customer type\", \"City\"])[\"Total\"].sum()"
   ]
  },
  {
   "cell_type": "markdown",
   "id": "7c7c3a78-ae83-4c3e-a502-f5eeadc74a27",
   "metadata": {},
   "source": [
    "Esses valores não mostram uma grande variação entre os tipos de consumidores em cada cidade, o que pode indicar que os consumidores \n",
    "\"Normal\" e \"Member\" gastaram valores muito próximos em cada local."
   ]
  },
  {
   "cell_type": "markdown",
   "id": "fb2475a0-1b21-4ff8-81c2-9c87408b39d7",
   "metadata": {},
   "source": [
    "### Análise Temporal de distribuição do gasto por consumidor"
   ]
  },
  {
   "cell_type": "code",
   "execution_count": 107,
   "id": "68f74448-cc4a-4fd0-a847-50db26a4d75e",
   "metadata": {},
   "outputs": [
    {
     "data": {
      "text/html": [
       "<div>\n",
       "<style scoped>\n",
       "    .dataframe tbody tr th:only-of-type {\n",
       "        vertical-align: middle;\n",
       "    }\n",
       "\n",
       "    .dataframe tbody tr th {\n",
       "        vertical-align: top;\n",
       "    }\n",
       "\n",
       "    .dataframe thead th {\n",
       "        text-align: right;\n",
       "    }\n",
       "</style>\n",
       "<table border=\"1\" class=\"dataframe\">\n",
       "  <thead>\n",
       "    <tr style=\"text-align: right;\">\n",
       "      <th></th>\n",
       "      <th>City</th>\n",
       "      <th>Mandalay</th>\n",
       "      <th>Naypyitaw</th>\n",
       "      <th>Yangon</th>\n",
       "    </tr>\n",
       "    <tr>\n",
       "      <th>Month</th>\n",
       "      <th>Customer type</th>\n",
       "      <th></th>\n",
       "      <th></th>\n",
       "      <th></th>\n",
       "    </tr>\n",
       "  </thead>\n",
       "  <tbody>\n",
       "    <tr>\n",
       "      <th rowspan=\"2\" valign=\"top\">1</th>\n",
       "      <th>Member</th>\n",
       "      <td>18568.7250</td>\n",
       "      <td>19148.0520</td>\n",
       "      <td>20198.0520</td>\n",
       "    </tr>\n",
       "    <tr>\n",
       "      <th>Normal</th>\n",
       "      <td>18607.3335</td>\n",
       "      <td>21286.6290</td>\n",
       "      <td>18483.0765</td>\n",
       "    </tr>\n",
       "    <tr>\n",
       "      <th rowspan=\"2\" valign=\"top\">2</th>\n",
       "      <th>Member</th>\n",
       "      <td>17156.9370</td>\n",
       "      <td>17165.7045</td>\n",
       "      <td>15973.4085</td>\n",
       "    </tr>\n",
       "    <tr>\n",
       "      <th>Normal</th>\n",
       "      <td>17267.3340</td>\n",
       "      <td>15769.2780</td>\n",
       "      <td>13886.7120</td>\n",
       "    </tr>\n",
       "    <tr>\n",
       "      <th rowspan=\"2\" valign=\"top\">3</th>\n",
       "      <th>Member</th>\n",
       "      <td>17979.0240</td>\n",
       "      <td>20567.5260</td>\n",
       "      <td>17466.0150</td>\n",
       "    </tr>\n",
       "    <tr>\n",
       "      <th>Normal</th>\n",
       "      <td>16618.3185</td>\n",
       "      <td>16631.5170</td>\n",
       "      <td>20193.1065</td>\n",
       "    </tr>\n",
       "  </tbody>\n",
       "</table>\n",
       "</div>"
      ],
      "text/plain": [
       "City                   Mandalay   Naypyitaw      Yangon\n",
       "Month Customer type                                    \n",
       "1     Member         18568.7250  19148.0520  20198.0520\n",
       "      Normal         18607.3335  21286.6290  18483.0765\n",
       "2     Member         17156.9370  17165.7045  15973.4085\n",
       "      Normal         17267.3340  15769.2780  13886.7120\n",
       "3     Member         17979.0240  20567.5260  17466.0150\n",
       "      Normal         16618.3185  16631.5170  20193.1065"
      ]
     },
     "execution_count": 107,
     "metadata": {},
     "output_type": "execute_result"
    }
   ],
   "source": [
    "df_data['Month'] = df_data['Date'].dt.month\n",
    "monthly_spend = df_data.groupby(['Month', 'Customer type', 'City'])['Total'].sum().unstack()\n",
    "monthly_spend"
   ]
  },
  {
   "cell_type": "code",
   "execution_count": null,
   "id": "c14cf268-ad13-421c-b695-34ef8ab957ba",
   "metadata": {
    "scrolled": true
   },
   "outputs": [],
   "source": []
  },
  {
   "cell_type": "code",
   "execution_count": 121,
   "id": "12bae33a-24f3-45f6-925e-d64f2fca86ff",
   "metadata": {},
   "outputs": [
    {
     "data": {
      "image/png": "[encoded data removed]",
      "text/plain": [
       "<Figure size 640x480 with 1 Axes>"
      ]
     },
     "metadata": {},
     "output_type": "display_data"
    }
   ],
   "source": [
    "import seaborn as sns\n",
    "import matplotlib.pyplot as plt\n",
    "sns.barplot(data=df_data, x='City', y='Total', hue='Customer type')\n",
    "plt.title('Gasto Total por Cidade e Tipo de Consumidor')\n",
    "plt.legend(loc='upper left', bbox_to_anchor=(1, 1))\n",
    "plt.show()\n"
   ]
  },
  {
   "cell_type": "code",
   "execution_count": null,
   "id": "2997ea9b-dd32-4a32-8e3b-930fb0096c52",
   "metadata": {},
   "outputs": [],
   "source": []
  }
 ],
 "metadata": {
  "kernelspec": {
   "display_name": "Python 3 (ipykernel)",
   "language": "python",
   "name": "python3"
  },
  "language_info": {
   "codemirror_mode": {
    "name": "ipython",
    "version": 3
   },
   "file_extension": ".py",
   "mimetype": "text/x-python",
   "name": "python",
   "nbconvert_exporter": "python",
   "pygments_lexer": "ipython3",
   "version": "3.12.4"
  }
 },
 "nbformat": 4,
 "nbformat_minor": 5
}
